{
  "nbformat": 4,
  "nbformat_minor": 0,
  "metadata": {
    "colab": {
      "provenance": [],
      "machine_shape": "hm"
    },
    "kernelspec": {
      "name": "python3",
      "display_name": "Python 3"
    },
    "language_info": {
      "name": "python"
    },
    "gpuClass": "standard"
  },
  "cells": [
    {
      "cell_type": "markdown",
      "source": [
        "# EDA\n",
        "\n",
        "This section includes the initial installs, imports and some basic exploratory data analysis."
      ],
      "metadata": {
        "id": "an457GO7bp9o"
      }
    },
    {
      "cell_type": "code",
      "source": [
        "!pip install surprise"
      ],
      "metadata": {
        "colab": {
          "base_uri": "https://localhost:8080/"
        },
        "id": "RMPL4lXpcvDe",
        "outputId": "96dc0e34-cd31-4ede-990a-38f714f89b34"
      },
      "execution_count": 1,
      "outputs": [
        {
          "output_type": "stream",
          "name": "stdout",
          "text": [
            "Looking in indexes: https://pypi.org/simple, https://us-python.pkg.dev/colab-wheels/public/simple/\n",
            "Requirement already satisfied: surprise in /usr/local/lib/python3.10/dist-packages (0.1)\n",
            "Requirement already satisfied: scikit-surprise in /usr/local/lib/python3.10/dist-packages (from surprise) (1.1.3)\n",
            "Requirement already satisfied: joblib>=1.0.0 in /usr/local/lib/python3.10/dist-packages (from scikit-surprise->surprise) (1.2.0)\n",
            "Requirement already satisfied: numpy>=1.17.3 in /usr/local/lib/python3.10/dist-packages (from scikit-surprise->surprise) (1.22.4)\n",
            "Requirement already satisfied: scipy>=1.3.2 in /usr/local/lib/python3.10/dist-packages (from scikit-surprise->surprise) (1.10.1)\n"
          ]
        }
      ]
    },
    {
      "cell_type": "code",
      "source": [
        "import pandas as pd"
      ],
      "metadata": {
        "id": "z2cBpJj7bE97"
      },
      "execution_count": 3,
      "outputs": []
    },
    {
      "cell_type": "code",
      "execution_count": 4,
      "metadata": {
        "id": "UbK3lHB9a1Ql"
      },
      "outputs": [],
      "source": [
        "# Load the ratings data in panda dataframe\n",
        "ratings_df = pd.read_csv('ratings1.csv')\n",
        "# Load the books data in panda dataframe\n",
        "books_df = pd.read_csv('books1.csv')"
      ]
    },
    {
      "cell_type": "code",
      "source": [
        "# set display options\n",
        "pd.set_option('display.max_columns', None) # display all columns\n",
        "pd.set_option('display.width', 1000) # set display width"
      ],
      "metadata": {
        "id": "hzyDE0MAbNAY"
      },
      "execution_count": 5,
      "outputs": []
    },
    {
      "cell_type": "code",
      "source": [
        "# Print dataset size and examine column data types\n",
        "print(\"Number of ratings: \", len(ratings_df))\n",
        "print(ratings_df.info())"
      ],
      "metadata": {
        "colab": {
          "base_uri": "https://localhost:8080/"
        },
        "id": "sBHV851EcY7M",
        "outputId": "aa3b1c01-a01f-4a9f-c3dd-c5f8357e1598"
      },
      "execution_count": 6,
      "outputs": [
        {
          "output_type": "stream",
          "name": "stdout",
          "text": [
            "Number of ratings:  5976479\n",
            "<class 'pandas.core.frame.DataFrame'>\n",
            "RangeIndex: 5976479 entries, 0 to 5976478\n",
            "Data columns (total 3 columns):\n",
            " #   Column   Dtype\n",
            "---  ------   -----\n",
            " 0   user_id  int64\n",
            " 1   book_id  int64\n",
            " 2   rating   int64\n",
            "dtypes: int64(3)\n",
            "memory usage: 136.8 MB\n",
            "None\n"
          ]
        }
      ]
    },
    {
      "cell_type": "code",
      "source": [
        "print(ratings_df.head())"
      ],
      "metadata": {
        "colab": {
          "base_uri": "https://localhost:8080/"
        },
        "id": "u5rmbKIubOkk",
        "outputId": "7293b4cc-7916-41ef-ae58-ccc26a5a18ea"
      },
      "execution_count": 7,
      "outputs": [
        {
          "output_type": "stream",
          "name": "stdout",
          "text": [
            "   user_id  book_id  rating\n",
            "0        1      258       5\n",
            "1        2     4081       4\n",
            "2        2      260       5\n",
            "3        2     9296       5\n",
            "4        2     2318       3\n"
          ]
        }
      ]
    },
    {
      "cell_type": "code",
      "source": [
        "print(ratings_df.sort_values('book_id'))"
      ],
      "metadata": {
        "colab": {
          "base_uri": "https://localhost:8080/"
        },
        "id": "iWzsEjIGbVRE",
        "outputId": "0e8310fc-6e5c-4b02-f5d3-7d967fd3134c"
      },
      "execution_count": 8,
      "outputs": [
        {
          "output_type": "stream",
          "name": "stdout",
          "text": [
            "         user_id  book_id  rating\n",
            "2174136    29300        1       4\n",
            "433265      6590        1       3\n",
            "1907014     7546        1       5\n",
            "3743260    43484        1       1\n",
            "1266846    18689        1       5\n",
            "...          ...      ...     ...\n",
            "2366366    31293    10000       3\n",
            "3376022    12272    10000       4\n",
            "2811513    35330    10000       4\n",
            "4134364    46337    10000       5\n",
            "4047777    42537    10000       4\n",
            "\n",
            "[5976479 rows x 3 columns]\n"
          ]
        }
      ]
    },
    {
      "cell_type": "code",
      "source": [
        "books_df.drop([\"goodreads_book_id\", \"best_book_id\", \"work_id\", \"books_count\", \"isbn\", \"isbn13\", \"language_code\", \"work_ratings_count\", \"work_text_reviews_count\"], axis=1, inplace=True)"
      ],
      "metadata": {
        "id": "Vbo864NLUgRg"
      },
      "execution_count": 9,
      "outputs": []
    },
    {
      "cell_type": "code",
      "source": [
        "print(books_df)"
      ],
      "metadata": {
        "colab": {
          "base_uri": "https://localhost:8080/"
        },
        "id": "WwPlodPWVMoD",
        "outputId": "a04ef4a2-1ada-4351-8b6b-b0dea7b353dd"
      },
      "execution_count": 10,
      "outputs": [
        {
          "output_type": "stream",
          "name": "stdout",
          "text": [
            "      book_id                      authors  original_publication_year                                     original_title                                              title  average_rating  ratings_count  ratings_1  ratings_2  ratings_3  ratings_4  ratings_5                                          image_url                                    small_image_url\n",
            "0           1              Suzanne Collins                     2008.0                                   The Hunger Games            The Hunger Games (The Hunger Games, #1)            4.34        4780653      66715     127936     560092    1481305    2706317  https://images.gr-assets.com/books/1447303603m...  https://images.gr-assets.com/books/1447303603s...\n",
            "1           2  J.K. Rowling, Mary GrandPré                     1997.0           Harry Potter and the Philosopher's Stone  Harry Potter and the Sorcerer's Stone (Harry P...            4.44        4602479      75504     101676     455024    1156318    3011543  https://images.gr-assets.com/books/1474154022m...  https://images.gr-assets.com/books/1474154022s...\n",
            "2           3              Stephenie Meyer                     2005.0                                           Twilight                            Twilight (Twilight, #1)            3.57        3866839     456191     436802     793319     875073    1355439  https://images.gr-assets.com/books/1361039443m...  https://images.gr-assets.com/books/1361039443s...\n",
            "3           4                   Harper Lee                     1960.0                              To Kill a Mockingbird                              To Kill a Mockingbird            4.25        3198671      60427     117415     446835    1001952    1714267  https://images.gr-assets.com/books/1361975680m...  https://images.gr-assets.com/books/1361975680s...\n",
            "4           5          F. Scott Fitzgerald                     1925.0                                   The Great Gatsby                                   The Great Gatsby            3.89        2683664      86236     197621     606158     936012     947718  https://images.gr-assets.com/books/1490528560m...  https://images.gr-assets.com/books/1490528560s...\n",
            "...       ...                          ...                        ...                                                ...                                                ...             ...            ...        ...        ...        ...        ...        ...                                                ...                                                ...\n",
            "9995     9996                Ilona Andrews                     2010.0                                         Bayou Moon                          Bayou Moon (The Edge, #2)            4.09          17204        105        575       3538       7860       6778  https://images.gr-assets.com/books/1307445460m...  https://images.gr-assets.com/books/1307445460s...\n",
            "9996     9997               Robert A. Caro                     1990.0                                   Means of Ascent   Means of Ascent (The Years of Lyndon Johnson, #2)            4.25          12582        303        551       1737       3389       6972  https://s.gr-assets.com/assets/nophoto/book/11...  https://s.gr-assets.com/assets/nophoto/book/50...\n",
            "9997     9998              Patrick O'Brian                     1977.0                              The Mauritius Command                              The Mauritius Command            4.35           9421         11        111       1191       4240       5180  https://images.gr-assets.com/books/1455373531m...  https://images.gr-assets.com/books/1455373531s...\n",
            "9998     9999              Peggy Orenstein                     2011.0  Cinderella Ate My Daughter: Dispatches from th...  Cinderella Ate My Daughter: Dispatches from th...            3.65          11279        275       1002       3765       4577       2375  https://images.gr-assets.com/books/1279214118m...  https://images.gr-assets.com/books/1279214118s...\n",
            "9999    10000                  John Keegan                     1998.0                                The First World War                                The First World War            4.00           9162        117        345       2031       4138       3069  https://images.gr-assets.com/books/1403194704m...  https://images.gr-assets.com/books/1403194704s...\n",
            "\n",
            "[10000 rows x 14 columns]\n"
          ]
        }
      ]
    },
    {
      "cell_type": "markdown",
      "source": [
        "# Train the Model"
      ],
      "metadata": {
        "id": "PaQtVNNqbw8i"
      }
    },
    {
      "cell_type": "markdown",
      "source": [
        "## train/test\n",
        "\n",
        "You can try running this cell, but it may crash you session while trying to split the dataset."
      ],
      "metadata": {
        "id": "I7ERtUyFoobP"
      }
    },
    {
      "cell_type": "code",
      "source": [
        "from surprise import KNNBasic\n",
        "from surprise import accuracy\n",
        "from surprise.model_selection import train_test_split\n",
        "from surprise import Reader, Dataset\n",
        "\n",
        "# Define the reader object for Surprise\n",
        "reader = Reader(rating_scale=(1, 5))\n",
        "\n",
        "# Load the merged dataframe into Surprise's Dataset object\n",
        "data = Dataset.load_from_df(ratings_df[['user_id', 'book_id', 'rating']], reader)\n",
        "\n",
        "# Split the data into a train set and a test set\n",
        "trainset, testset = train_test_split(data, test_size=0.25)\n",
        "\n",
        "# Create the KNNBasic model\n",
        "algo = KNNBasic()\n",
        "\n",
        "# Train the model\n",
        "algo.fit(trainset)\n",
        "\n",
        "# Make predictions on the test set\n",
        "predictions = algo.test(testset)\n",
        "\n",
        "# Calculate evaluation metrics\n",
        "rmse = accuracy.rmse(predictions)\n",
        "mae = accuracy.mae(predictions)\n",
        "\n",
        "print(f\"RMSE: {rmse}\")\n",
        "print(f\"MAE: {mae}\")"
      ],
      "metadata": {
        "id": "gUEncjaAo6yy"
      },
      "execution_count": null,
      "outputs": []
    },
    {
      "cell_type": "markdown",
      "source": [
        "## k-fold"
      ],
      "metadata": {
        "id": "6QnKcS34oiqW"
      }
    },
    {
      "cell_type": "code",
      "source": [
        "from surprise import KNNBaseline, Dataset, Reader\n",
        "from surprise.model_selection import cross_validate\n",
        "\n",
        "# Define the reader object for Surprise\n",
        "reader = Reader(rating_scale=(1, 5))\n",
        "\n",
        "# Load the merged dataframe into Surprise's Dataset object\n",
        "data = Dataset.load_from_df(ratings_df[['user_id', 'book_id', 'rating']], reader)\n",
        "\n",
        "# Set the similarity options for KNNBaseline\n",
        "sim_options = {'name': 'pearson_baseline', 'user_based': False}\n",
        "\n",
        "# Create the KNNBaseline model\n",
        "knn_model = KNNBaseline(sim_options=sim_options)\n",
        "\n",
        "# Perform k-fold cross-validation\n",
        "cv_results = cross_validate(knn_model, data, measures=['RMSE', 'MAE'], cv=5, verbose=True)\n",
        "\n",
        "# Print the average RMSE and MAE scores\n",
        "average_rmse = sum(cv_results['test_rmse']) / len(cv_results['test_rmse'])\n",
        "average_mae = sum(cv_results['test_mae']) / len(cv_results['test_mae'])\n",
        "\n",
        "print(f\"Average RMSE (5-fold CV): {average_rmse}\")\n",
        "print(f\"Average MAE (5-fold CV): {average_mae}\")"
      ],
      "metadata": {
        "colab": {
          "base_uri": "https://localhost:8080/"
        },
        "id": "PQ99J8jbcXBa",
        "outputId": "0ef201cf-6609-4cec-8336-d81efc3e1d33"
      },
      "execution_count": 10,
      "outputs": [
        {
          "output_type": "stream",
          "name": "stdout",
          "text": [
            "Estimating biases using als...\n",
            "Computing the pearson_baseline similarity matrix...\n",
            "Done computing similarity matrix.\n",
            "Estimating biases using als...\n",
            "Computing the pearson_baseline similarity matrix...\n",
            "Done computing similarity matrix.\n",
            "Estimating biases using als...\n",
            "Computing the pearson_baseline similarity matrix...\n",
            "Done computing similarity matrix.\n",
            "Estimating biases using als...\n",
            "Computing the pearson_baseline similarity matrix...\n",
            "Done computing similarity matrix.\n",
            "Estimating biases using als...\n",
            "Computing the pearson_baseline similarity matrix...\n",
            "Done computing similarity matrix.\n",
            "Evaluating RMSE, MAE of algorithm KNNBaseline on 5 split(s).\n",
            "\n",
            "                  Fold 1  Fold 2  Fold 3  Fold 4  Fold 5  Mean    Std     \n",
            "RMSE (testset)    0.7975  0.7974  0.7969  0.7977  0.7979  0.7975  0.0003  \n",
            "MAE (testset)     0.6056  0.6059  0.6052  0.6062  0.6058  0.6057  0.0003  \n",
            "Fit time          94.56   97.50   103.81  102.27  101.01  99.83   3.36    \n",
            "Test time         218.23  228.01  224.59  217.94  218.00  221.35  4.18    \n",
            "Average RMSE (5-fold CV): 0.7974605123546404\n",
            "Average MAE (5-fold CV): 0.6057424613287767\n"
          ]
        }
      ]
    },
    {
      "cell_type": "markdown",
      "source": [
        "## build full trainset\n"
      ],
      "metadata": {
        "id": "h9KAk8mDonwr"
      }
    },
    {
      "cell_type": "code",
      "source": [
        "from surprise import KNNBaseline, Reader, Dataset\n",
        "\n",
        "# Define the reader object for Surprise\n",
        "reader = Reader(rating_scale=(1, 5))\n",
        "\n",
        "# Load the merged dataframe into Surprise's Dataset object\n",
        "data = Dataset.load_from_df(ratings_df[['user_id', 'book_id', 'rating']], reader)\n",
        "\n",
        "trainset = data.build_full_trainset()\n",
        "sim_options = {\"name\": \"pearson_baseline\", \"user_based\": False}\n",
        "algo = KNNBaseline(sim_options=sim_options)\n",
        "algo.fit(trainset)\n",
        "algo"
      ],
      "metadata": {
        "colab": {
          "base_uri": "https://localhost:8080/"
        },
        "id": "j-cUNiQEoyIH",
        "outputId": "82e2b8ad-b855-4faf-8a8b-9d5c1fdaa1c8"
      },
      "execution_count": 21,
      "outputs": [
        {
          "output_type": "stream",
          "name": "stdout",
          "text": [
            "Estimating biases using als...\n",
            "Computing the pearson_baseline similarity matrix...\n",
            "Done computing similarity matrix.\n"
          ]
        },
        {
          "output_type": "execute_result",
          "data": {
            "text/plain": [
              "<surprise.prediction_algorithms.knns.KNNBaseline at 0x7fb23cab2530>"
            ]
          },
          "metadata": {},
          "execution_count": 21
        }
      ]
    },
    {
      "cell_type": "code",
      "source": [
        "print(\"Number of items in the trainset:\", len(algo.trainset.all_items()))"
      ],
      "metadata": {
        "colab": {
          "base_uri": "https://localhost:8080/"
        },
        "id": "3LyPeXRNfDj5",
        "outputId": "c4a20c48-920e-47c1-e548-8dc11de52fee"
      },
      "execution_count": 22,
      "outputs": [
        {
          "output_type": "stream",
          "name": "stdout",
          "text": [
            "Number of items in the trainset: 10000\n"
          ]
        }
      ]
    },
    {
      "cell_type": "code",
      "source": [
        "def read_item_names(df):\n",
        "    \"\"\"Read book title and id from a csv file and return two dictionaries to\n",
        "    convert raw ids into book titles and book titles into raw ids.\n",
        "    \"\"\"\n",
        "    # Create dictionaries to convert raw ids into book titles and book titles\n",
        "    # into raw ids\n",
        "    rid_to_name = {}\n",
        "    name_to_rid = {}\n",
        "    for index, row in df.iterrows():\n",
        "        rid = str(row[\"book_id\"])\n",
        "        name = row[\"title\"]\n",
        "        rid_to_name[rid] = name\n",
        "        name_to_rid[name] = rid\n",
        "\n",
        "    return rid_to_name, name_to_rid"
      ],
      "metadata": {
        "id": "Wc9JXBcWfASq"
      },
      "execution_count": 23,
      "outputs": []
    },
    {
      "cell_type": "code",
      "source": [
        "# Read the mappings raw id <-> movie name\n",
        "rid_to_name, name_to_rid = read_item_names(books_df)"
      ],
      "metadata": {
        "id": "j6YOh98afOdI"
      },
      "execution_count": 24,
      "outputs": []
    },
    {
      "cell_type": "markdown",
      "source": [
        "# Recommendations\n",
        "After running all the previous cells, you can run this cell to interact with the model and recieve book recommendations. Remember that there was only 10000 books in this dataset so make sure to input a book that is in the dataset."
      ],
      "metadata": {
        "id": "qtFaXTAkb6ol"
      }
    },
    {
      "cell_type": "code",
      "source": [
        "# Retrieve inner id of the book\n",
        "book_title = input(\"Book title: \")\n",
        "raw_id = name_to_rid[book_title]\n",
        "raw_id = int(raw_id)\n",
        "\n",
        "inner_id = algo.trainset.to_inner_iid(raw_id)\n",
        "\n",
        "neighbors_inner = algo.get_neighbors(inner_id, k=10)\n",
        "\n",
        "# Get book information\n",
        "book_data = books_df.loc[books_df['book_id'] == raw_id].iloc[0]\n",
        "\n",
        "# Print book information and nearest neighbors\n",
        "print()\n",
        "print(f\"Book title: {book_data['original_title']}\")\n",
        "print(f\"Image URL: {book_data['image_url']}\")\n",
        "print(f\"Authors: {book_data['authors']}\")\n",
        "print(f\"Publication Year: {book_data['original_publication_year']}\")\n",
        "print()\n",
        "print(f\"The 10 nearest neighbors to {book_title} are:\")\n",
        "for neighbor_inner in neighbors_inner:\n",
        "    neighbor_raw = algo.trainset.to_raw_iid(neighbor_inner)\n",
        "    neighbor_name = rid_to_name[str(neighbor_raw)]\n",
        "    neighbor_data = books_df.loc[books_df['book_id'] == neighbor_raw].iloc[0]\n",
        "    print(f\"Book title: {neighbor_data['original_title']}\")\n",
        "    print(f\"Image URL: {neighbor_data['image_url']}\")\n",
        "    print(f\"Authors: {neighbor_data['authors']}\")\n",
        "    print(f\"Publication Year: {neighbor_data['original_publication_year']}\")\n",
        "    print()"
      ],
      "metadata": {
        "colab": {
          "base_uri": "https://localhost:8080/"
        },
        "id": "mXaQw5_hfTCB",
        "outputId": "d7df7ef4-cde6-440b-b755-bc46ce7cf758"
      },
      "execution_count": 28,
      "outputs": [
        {
          "output_type": "stream",
          "name": "stdout",
          "text": [
            "Book title: The Alchemist\n",
            "\n",
            "Book title: O Alquimista\n",
            "Image URL: https://images.gr-assets.com/books/1483412266m/865.jpg\n",
            "Authors: Paulo Coelho, Alan R. Clarke\n",
            "Publication Year: 1988.0\n",
            "\n",
            "The 10 nearest neighbors to The Alchemist are:\n",
            "Book title: Na margem do rio Piedra eu sentei e chorei\n",
            "Image URL: https://images.gr-assets.com/books/1466877798m/1428.jpg\n",
            "Authors: Paulo Coelho, Alan R. Clarke\n",
            "Publication Year: 1994.0\n",
            "\n",
            "Book title: The Celestine Prophecy\n",
            "Image URL: https://images.gr-assets.com/books/1341360412m/13103.jpg\n",
            "Authors: James Redfield\n",
            "Publication Year: 1993.0\n",
            "\n",
            "Book title: Veronika decide morrer\n",
            "Image URL: https://s.gr-assets.com/assets/nophoto/book/111x148-bcc042a9c91a29c1d680899eff700a03.png\n",
            "Authors: Paulo Coelho, Margaret Jull Costa\n",
            "Publication Year: 1998.0\n",
            "\n",
            "Book title: Illusions: The Adventures of a Reluctant Messiah\n",
            "Image URL: https://images.gr-assets.com/books/1353964306m/29946.jpg\n",
            "Authors: Richard Bach\n",
            "Publication Year: 1977.0\n",
            "\n",
            "Book title: O Diário de um Mago\n",
            "Image URL: https://images.gr-assets.com/books/1307909268m/4004.jpg\n",
            "Authors: Paulo Coelho, Alan R. Clarke\n",
            "Publication Year: 1987.0\n",
            "\n",
            "Book title: Jonathan Livingston Seagull\n",
            "Image URL: https://s.gr-assets.com/assets/nophoto/book/111x148-bcc042a9c91a29c1d680899eff700a03.png\n",
            "Authors: Richard Bach, Russell Munson\n",
            "Publication Year: 1970.0\n",
            "\n",
            "Book title: Brida\n",
            "Image URL: https://images.gr-assets.com/books/1403772793m/68591.jpg\n",
            "Authors: Paulo Coelho, Montserrat Mira\n",
            "Publication Year: 1990.0\n",
            "\n",
            "Book title: Who Moved My Cheese?\n",
            "Image URL: https://s.gr-assets.com/assets/nophoto/book/111x148-bcc042a9c91a29c1d680899eff700a03.png\n",
            "Authors: Spencer Johnson, Kenneth H. Blanchard\n",
            "Publication Year: 1998.0\n",
            "\n",
            "Book title: The Prophet\n",
            "Image URL: https://images.gr-assets.com/books/1355046521m/2547.jpg\n",
            "Authors: Kahlil Gibran\n",
            "Publication Year: 1923.0\n",
            "\n",
            "Book title: Onze minutos\n",
            "Image URL: https://images.gr-assets.com/books/1358266987m/1430.jpg\n",
            "Authors: Paulo Coelho, Margaret Jull Costa\n",
            "Publication Year: 2003.0\n",
            "\n"
          ]
        }
      ]
    }
  ]
}